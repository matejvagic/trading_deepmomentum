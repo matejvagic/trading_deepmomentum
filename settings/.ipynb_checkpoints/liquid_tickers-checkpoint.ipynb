{
 "cells": [
  {
   "cell_type": "code",
   "execution_count": 1,
   "metadata": {},
   "outputs": [],
   "source": [
    "import requests\n",
    "import pandas as pd\n",
    "\n",
    "url = 'https://www.tradingview.com/markets/stocks-usa/market-movers-active/'\n",
    "html = requests.get(url).content\n",
    "df_list = pd.read_html(html)"
   ]
  },
  {
   "cell_type": "code",
   "execution_count": 3,
   "metadata": {},
   "outputs": [],
   "source": [
    "df = df_list[-1]"
   ]
  },
  {
   "cell_type": "code",
   "execution_count": 8,
   "metadata": {},
   "outputs": [],
   "source": [
    "a = df[\"Ticker\"]"
   ]
  },
  {
   "cell_type": "code",
   "execution_count": 14,
   "metadata": {},
   "outputs": [],
   "source": [
    "b = []\n",
    "for ticker in a:\n",
    "    index=0\n",
    "    new_ticker=ticker\n",
    "    for letter in  ticker:\n",
    "        if (letter.islower()):\n",
    "            break\n",
    "        index+=1\n",
    "    new_ticker = ticker[0:index-1]\n",
    "    b.append(new_ticker)\n"
   ]
  },
  {
   "cell_type": "code",
   "execution_count": 15,
   "metadata": {},
   "outputs": [
    {
     "data": {
      "text/plain": [
       "['AAPL',\n",
       " 'RDBX',\n",
       " 'FFORD MTR CO DE',\n",
       " 'AMD',\n",
       " 'INTC',\n",
       " 'TAT&T ',\n",
       " 'FFNCH',\n",
       " 'NVDANVIDIA ',\n",
       " 'FB',\n",
       " 'BAC',\n",
       " 'CMCSA',\n",
       " 'VZ',\n",
       " 'SNAP',\n",
       " 'TWTR',\n",
       " 'SWN',\n",
       " 'MSFT',\n",
       " 'SIRI',\n",
       " 'ZYME',\n",
       " 'XOM',\n",
       " 'CYN',\n",
       " 'TDOC',\n",
       " 'VAXX',\n",
       " 'SOFI',\n",
       " 'HOOD',\n",
       " 'PLTR',\n",
       " 'TSLA',\n",
       " 'PFE',\n",
       " 'WFC',\n",
       " 'ZNGA',\n",
       " 'BMY',\n",
       " 'PCG',\n",
       " 'KMI',\n",
       " 'ABBV',\n",
       " 'UBER',\n",
       " 'PYPL',\n",
       " 'AAL',\n",
       " 'WBD',\n",
       " 'CLF',\n",
       " 'X',\n",
       " 'ACCD',\n",
       " 'CCL',\n",
       " 'DKNG',\n",
       " 'C',\n",
       " 'AMCAMC ',\n",
       " 'ATER',\n",
       " 'CSCO',\n",
       " 'KO',\n",
       " 'BBIG',\n",
       " 'HBAN',\n",
       " 'OXY',\n",
       " 'RBLX',\n",
       " 'TLRY',\n",
       " 'LCID',\n",
       " 'TELL',\n",
       " 'GGTYHGTY ',\n",
       " 'DNA',\n",
       " 'ROKU',\n",
       " 'AMCR',\n",
       " 'TKAT',\n",
       " 'FCX',\n",
       " 'DIS',\n",
       " 'MU',\n",
       " 'GM',\n",
       " 'RIG',\n",
       " 'ET',\n",
       " 'NFLX',\n",
       " 'PLUG',\n",
       " 'CSXCSX ',\n",
       " 'MRK',\n",
       " 'LUMN',\n",
       " 'BSX',\n",
       " 'PINS',\n",
       " 'CL',\n",
       " 'NEE',\n",
       " 'JPMJP ',\n",
       " 'CVX',\n",
       " 'MRO',\n",
       " 'UEC',\n",
       " 'AVTR',\n",
       " 'GRAB',\n",
       " 'FTI',\n",
       " 'FUB',\n",
       " 'QCOMQUALCOMM ',\n",
       " 'AMZN',\n",
       " 'DAL',\n",
       " 'SQ',\n",
       " 'BKR',\n",
       " 'VTRS',\n",
       " 'WU',\n",
       " 'APAAPA ',\n",
       " 'RIVN',\n",
       " 'NYCB',\n",
       " 'LBRT',\n",
       " 'BEN',\n",
       " 'OPEN',\n",
       " 'NCLH',\n",
       " 'RF',\n",
       " 'WBA',\n",
       " 'BTU',\n",
       " 'PTON']"
      ]
     },
     "execution_count": 15,
     "metadata": {},
     "output_type": "execute_result"
    }
   ],
   "source": [
    "b"
   ]
  }
 ],
 "metadata": {
  "interpreter": {
   "hash": "3067ead486e059ec00ffe7555bdb889e6e264a24dc711bf108106cc7baee8d5d"
  },
  "kernelspec": {
   "display_name": "Python 3.8.5 ('base')",
   "language": "python",
   "name": "python3"
  },
  "language_info": {
   "codemirror_mode": {
    "name": "ipython",
    "version": 3
   },
   "file_extension": ".py",
   "mimetype": "text/x-python",
   "name": "python",
   "nbconvert_exporter": "python",
   "pygments_lexer": "ipython3",
   "version": "3.8.5"
  },
  "orig_nbformat": 4
 },
 "nbformat": 4,
 "nbformat_minor": 2
}
