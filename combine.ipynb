{
 "cells": [
  {
   "cell_type": "code",
   "execution_count": 2,
   "metadata": {},
   "outputs": [],
   "source": [
    "import pandas as pd\n",
    "import os"
   ]
  },
  {
   "cell_type": "code",
   "execution_count": 3,
   "metadata": {},
   "outputs": [
    {
     "data": {
      "text/html": [
       "<div>\n",
       "<style scoped>\n",
       "    .dataframe tbody tr th:only-of-type {\n",
       "        vertical-align: middle;\n",
       "    }\n",
       "\n",
       "    .dataframe tbody tr th {\n",
       "        vertical-align: top;\n",
       "    }\n",
       "\n",
       "    .dataframe thead th {\n",
       "        text-align: right;\n",
       "    }\n",
       "</style>\n",
       "<table border=\"1\" class=\"dataframe\">\n",
       "  <thead>\n",
       "    <tr style=\"text-align: right;\">\n",
       "      <th></th>\n",
       "      <th>Date</th>\n",
       "      <th>date</th>\n",
       "      <th>ticker</th>\n",
       "      <th>close</th>\n",
       "      <th>srs</th>\n",
       "      <th>daily_returns</th>\n",
       "      <th>daily_vol</th>\n",
       "      <th>target_returns</th>\n",
       "      <th>norm_daily_return</th>\n",
       "      <th>norm_monthly_return</th>\n",
       "      <th>...</th>\n",
       "      <th>macd_32_96</th>\n",
       "      <th>day_of_week</th>\n",
       "      <th>day_of_month</th>\n",
       "      <th>week_of_year</th>\n",
       "      <th>month_of_year</th>\n",
       "      <th>year</th>\n",
       "      <th>cp_rl_126</th>\n",
       "      <th>cp_score_126</th>\n",
       "      <th>cp_rl_21</th>\n",
       "      <th>cp_score_21</th>\n",
       "    </tr>\n",
       "  </thead>\n",
       "  <tbody>\n",
       "    <tr>\n",
       "      <th>0</th>\n",
       "      <td>2001-01-02</td>\n",
       "      <td>2001-01-02</td>\n",
       "      <td>AAPL</td>\n",
       "      <td>0.265625</td>\n",
       "      <td>0.265625</td>\n",
       "      <td>0.000000</td>\n",
       "      <td>0.052202</td>\n",
       "      <td>0.018253</td>\n",
       "      <td>0.000000</td>\n",
       "      <td>-0.411694</td>\n",
       "      <td>...</td>\n",
       "      <td>-7.585871</td>\n",
       "      <td>1</td>\n",
       "      <td>2</td>\n",
       "      <td>1</td>\n",
       "      <td>1</td>\n",
       "      <td>2001</td>\n",
       "      <td>0.309691</td>\n",
       "      <td>0.999808</td>\n",
       "      <td>0.692656</td>\n",
       "      <td>0.992290</td>\n",
       "    </tr>\n",
       "    <tr>\n",
       "      <th>1</th>\n",
       "      <td>2001-01-03</td>\n",
       "      <td>2001-01-03</td>\n",
       "      <td>AAPL</td>\n",
       "      <td>0.292411</td>\n",
       "      <td>0.292411</td>\n",
       "      <td>0.100841</td>\n",
       "      <td>0.054865</td>\n",
       "      <td>0.007231</td>\n",
       "      <td>1.838003</td>\n",
       "      <td>-0.160264</td>\n",
       "      <td>...</td>\n",
       "      <td>-6.978549</td>\n",
       "      <td>2</td>\n",
       "      <td>3</td>\n",
       "      <td>1</td>\n",
       "      <td>1</td>\n",
       "      <td>2001</td>\n",
       "      <td>0.428643</td>\n",
       "      <td>0.999871</td>\n",
       "      <td>0.747073</td>\n",
       "      <td>0.939045</td>\n",
       "    </tr>\n",
       "    <tr>\n",
       "      <th>2</th>\n",
       "      <td>2001-01-04</td>\n",
       "      <td>2001-01-04</td>\n",
       "      <td>AAPL</td>\n",
       "      <td>0.304688</td>\n",
       "      <td>0.304688</td>\n",
       "      <td>0.041985</td>\n",
       "      <td>0.054569</td>\n",
       "      <td>-0.006977</td>\n",
       "      <td>0.769402</td>\n",
       "      <td>0.089872</td>\n",
       "      <td>...</td>\n",
       "      <td>-6.606519</td>\n",
       "      <td>3</td>\n",
       "      <td>4</td>\n",
       "      <td>1</td>\n",
       "      <td>1</td>\n",
       "      <td>2001</td>\n",
       "      <td>0.436770</td>\n",
       "      <td>0.999896</td>\n",
       "      <td>0.859852</td>\n",
       "      <td>0.976116</td>\n",
       "    </tr>\n",
       "    <tr>\n",
       "      <th>3</th>\n",
       "      <td>2001-01-05</td>\n",
       "      <td>2001-01-05</td>\n",
       "      <td>AAPL</td>\n",
       "      <td>0.292411</td>\n",
       "      <td>0.292411</td>\n",
       "      <td>-0.040294</td>\n",
       "      <td>0.054108</td>\n",
       "      <td>0.001999</td>\n",
       "      <td>-0.744686</td>\n",
       "      <td>-0.148262</td>\n",
       "      <td>...</td>\n",
       "      <td>-6.220593</td>\n",
       "      <td>4</td>\n",
       "      <td>5</td>\n",
       "      <td>1</td>\n",
       "      <td>1</td>\n",
       "      <td>2001</td>\n",
       "      <td>0.333452</td>\n",
       "      <td>0.999409</td>\n",
       "      <td>0.907269</td>\n",
       "      <td>0.986216</td>\n",
       "    </tr>\n",
       "    <tr>\n",
       "      <th>4</th>\n",
       "      <td>2001-01-08</td>\n",
       "      <td>2001-01-08</td>\n",
       "      <td>AAPL</td>\n",
       "      <td>0.295759</td>\n",
       "      <td>0.295759</td>\n",
       "      <td>0.011450</td>\n",
       "      <td>0.053278</td>\n",
       "      <td>0.006693</td>\n",
       "      <td>0.214902</td>\n",
       "      <td>0.643892</td>\n",
       "      <td>...</td>\n",
       "      <td>-5.922470</td>\n",
       "      <td>0</td>\n",
       "      <td>8</td>\n",
       "      <td>2</td>\n",
       "      <td>1</td>\n",
       "      <td>2001</td>\n",
       "      <td>0.507005</td>\n",
       "      <td>0.999963</td>\n",
       "      <td>0.998629</td>\n",
       "      <td>0.995516</td>\n",
       "    </tr>\n",
       "  </tbody>\n",
       "</table>\n",
       "<p>5 rows × 25 columns</p>\n",
       "</div>"
      ],
      "text/plain": [
       "         Date        date ticker     close       srs  daily_returns  \\\n",
       "0  2001-01-02  2001-01-02   AAPL  0.265625  0.265625       0.000000   \n",
       "1  2001-01-03  2001-01-03   AAPL  0.292411  0.292411       0.100841   \n",
       "2  2001-01-04  2001-01-04   AAPL  0.304688  0.304688       0.041985   \n",
       "3  2001-01-05  2001-01-05   AAPL  0.292411  0.292411      -0.040294   \n",
       "4  2001-01-08  2001-01-08   AAPL  0.295759  0.295759       0.011450   \n",
       "\n",
       "   daily_vol  target_returns  norm_daily_return  norm_monthly_return  ...  \\\n",
       "0   0.052202        0.018253           0.000000            -0.411694  ...   \n",
       "1   0.054865        0.007231           1.838003            -0.160264  ...   \n",
       "2   0.054569       -0.006977           0.769402             0.089872  ...   \n",
       "3   0.054108        0.001999          -0.744686            -0.148262  ...   \n",
       "4   0.053278        0.006693           0.214902             0.643892  ...   \n",
       "\n",
       "   macd_32_96  day_of_week  day_of_month  week_of_year  month_of_year  year  \\\n",
       "0   -7.585871            1             2             1              1  2001   \n",
       "1   -6.978549            2             3             1              1  2001   \n",
       "2   -6.606519            3             4             1              1  2001   \n",
       "3   -6.220593            4             5             1              1  2001   \n",
       "4   -5.922470            0             8             2              1  2001   \n",
       "\n",
       "   cp_rl_126  cp_score_126  cp_rl_21  cp_score_21  \n",
       "0   0.309691      0.999808  0.692656     0.992290  \n",
       "1   0.428643      0.999871  0.747073     0.939045  \n",
       "2   0.436770      0.999896  0.859852     0.976116  \n",
       "3   0.333452      0.999409  0.907269     0.986216  \n",
       "4   0.507005      0.999963  0.998629     0.995516  \n",
       "\n",
       "[5 rows x 25 columns]"
      ]
     },
     "execution_count": 3,
     "metadata": {},
     "output_type": "execute_result"
    }
   ],
   "source": [
    "df_base = pd.read_csv(\"data/quandl_cpd_126lbw_backup.csv\")\n",
    "df_base.head()"
   ]
  },
  {
   "cell_type": "code",
   "execution_count": 4,
   "metadata": {},
   "outputs": [
    {
     "data": {
      "text/plain": [
       "array(['AAPL', 'AMD', 'T', 'BAC', 'SWN', 'MSFT', 'XOM', 'BMY', 'PCG',\n",
       "       'WBD', 'CCL', 'C', 'KO', 'TELL', 'DIS', 'MRK', 'BSX', 'CL', 'CVX',\n",
       "       'FTI', 'AMZN', 'WU', 'NYCB', 'RF', 'SPY'], dtype=object)"
      ]
     },
     "execution_count": 4,
     "metadata": {},
     "output_type": "execute_result"
    }
   ],
   "source": [
    "df_base.ticker.unique()"
   ]
  },
  {
   "cell_type": "code",
   "execution_count": 5,
   "metadata": {},
   "outputs": [
    {
     "data": {
      "text/plain": [
       "['autoarima_sd_126_Lo95',\n",
       " 'autoarima_1_126_PointForecast',\n",
       " 'autoarima_last_126_PointForecast',\n",
       " 'q75_close_divergence_50',\n",
       " 'close_above_vwap_50',\n",
       " 'date',\n",
       " 'symbol']"
      ]
     },
     "execution_count": 5,
     "metadata": {},
     "output_type": "execute_result"
    }
   ],
   "source": [
    "useful = [\"autoarima_sd_126_Lo95\"   ,         \"autoarima_1_126_PointForecast\" ,  \n",
    " \"autoarima_last_126_PointForecast\" ,\"q75_close_divergence_50\"    ,     \n",
    " \"close_above_vwap_50\"]\n",
    "useful+= [\"date\", \"symbol\"]\n",
    "useful"
   ]
  },
  {
   "cell_type": "code",
   "execution_count": 6,
   "metadata": {},
   "outputs": [],
   "source": [
    "def get_names_of_features(dira):\n",
    "    lista = os.listdir(dira)\n",
    "    return [(i.replace(\"features_\", \"\").replace(\".csv\", \"\"), dira + \"/\" + i) for i in lista]"
   ]
  },
  {
   "cell_type": "code",
   "execution_count": 7,
   "metadata": {},
   "outputs": [],
   "source": [
    "stocks = get_names_of_features(\"data/m_features\")"
   ]
  },
  {
   "cell_type": "code",
   "execution_count": 8,
   "metadata": {},
   "outputs": [
    {
     "data": {
      "text/plain": [
       "29"
      ]
     },
     "execution_count": 8,
     "metadata": {},
     "output_type": "execute_result"
    }
   ],
   "source": [
    "len(stocks)"
   ]
  },
  {
   "cell_type": "code",
   "execution_count": 15,
   "metadata": {},
   "outputs": [
    {
     "name": "stdout",
     "output_type": "stream",
     "text": [
      "AAPL\n",
      "APA\n",
      "DAL\n",
      "CSX\n",
      "BMY\n",
      ".DS_Store\n",
      "FTI\n",
      "HBAN\n",
      "CL\n",
      "DIS\n",
      "BSX\n",
      "AAL\n",
      "JPM\n",
      "CLF\n",
      "AMZN\n",
      "INTC\n",
      "BEN\n",
      "CVX\n",
      "CCL\n",
      "C\n",
      "AMD\n",
      "BAC\n",
      "FCX\n",
      "KO\n",
      "GM\n",
      "CSCO\n",
      "MRK\n",
      "CMCSA\n",
      "ET\n"
     ]
    }
   ],
   "source": [
    "df_final = pd.DataFrame()\n",
    "for tup in stocks:\n",
    "    print(tup[0])\n",
    "    if (tup[0][0] ==  \".\"):\n",
    "        continue\n",
    "    curr_stock = pd.read_csv(tup[1])\n",
    "    curr_stock = curr_stock[curr_stock.columns.intersection(useful)]\n",
    "    df_a = df_base\n",
    "    df_b= curr_stock\n",
    "    df_a = df_a.merge(df_b, how='inner', left_on=['date', 'ticker'], right_on=['date', 'symbol'])\n",
    "    df_a=df_a.drop(\"symbol\", axis=1)\n",
    "    df_a=df_a.dropna(how='any',axis=0) \n",
    "    df_final = pd.concat([df_final, df_a], axis=0)\n"
   ]
  },
  {
   "cell_type": "code",
   "execution_count": 18,
   "metadata": {},
   "outputs": [
    {
     "data": {
      "text/plain": [
       "14"
      ]
     },
     "execution_count": 18,
     "metadata": {},
     "output_type": "execute_result"
    }
   ],
   "source": [
    "len(df_final.ticker.unique())"
   ]
  },
  {
   "cell_type": "code",
   "execution_count": null,
   "metadata": {},
   "outputs": [],
   "source": [
    "# for \n",
    "# df_a = df_base\n",
    "# df_b= curr_stock\n",
    "# df_a = df_a.merge(df_b, how='inner', left_on=['date', 'ticker'], right_on=['date', 'symbol'])\n",
    "# df_a.drop(\"symbol\", axis=1)\n",
    "# df_a.dropna(how='any',axis=0) \n",
    "# df_final = pd.concat([df_final, df_a], axis=0)"
   ]
  },
  {
   "cell_type": "code",
   "execution_count": 19,
   "metadata": {},
   "outputs": [
    {
     "data": {
      "text/plain": [
       "Index(['close_above_vwap_50', 'q75_close_divergence_50',\n",
       "       'autoarima_1_126_PointForecast', 'autoarima_last_126_PointForecast',\n",
       "       'autoarima_sd_126_Lo95'],\n",
       "      dtype='object')"
      ]
     },
     "execution_count": 19,
     "metadata": {},
     "output_type": "execute_result"
    }
   ],
   "source": [
    "df_final.columns[25:]"
   ]
  },
  {
   "cell_type": "code",
   "execution_count": null,
   "metadata": {},
   "outputs": [],
   "source": [
    "df_final.to_csv(\"data/quandl_cpd_126lbw.csv\", index=False)"
   ]
  }
 ],
 "metadata": {
  "interpreter": {
   "hash": "3067ead486e059ec00ffe7555bdb889e6e264a24dc711bf108106cc7baee8d5d"
  },
  "kernelspec": {
   "display_name": "Python 3.8.5 ('base')",
   "language": "python",
   "name": "python3"
  },
  "language_info": {
   "codemirror_mode": {
    "name": "ipython",
    "version": 3
   },
   "file_extension": ".py",
   "mimetype": "text/x-python",
   "name": "python",
   "nbconvert_exporter": "python",
   "pygments_lexer": "ipython3",
   "version": "3.8.5"
  },
  "orig_nbformat": 4
 },
 "nbformat": 4,
 "nbformat_minor": 2
}
